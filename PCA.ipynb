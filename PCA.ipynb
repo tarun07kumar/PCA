{
  "nbformat": 4,
  "nbformat_minor": 0,
  "metadata": {
    "colab": {
      "provenance": []
    },
    "kernelspec": {
      "name": "python3",
      "display_name": "Python 3"
    },
    "language_info": {
      "name": "python"
    }
  },
  "cells": [
    {
      "cell_type": "markdown",
      "source": [
        "### PCA"
      ],
      "metadata": {
        "id": "CSXp668Y6xTz"
      }
    },
    {
      "cell_type": "code",
      "source": [
        "import numpy as np\n",
        "X= np.array([[1,3,5,7,9,13,20,20,21,24,26],[5,7,11,14,15,17,18,19,21,22,26]])\n",
        "X =X.T\n",
        "print(X)"
      ],
      "metadata": {
        "colab": {
          "base_uri": "https://localhost:8080/"
        },
        "id": "hksYDbY466dJ",
        "outputId": "f0414e15-7279-46c9-ca2c-6dc5cb02b84d"
      },
      "execution_count": 38,
      "outputs": [
        {
          "output_type": "stream",
          "name": "stdout",
          "text": [
            "[[ 1  5]\n",
            " [ 3  7]\n",
            " [ 5 11]\n",
            " [ 7 14]\n",
            " [ 9 15]\n",
            " [13 17]\n",
            " [20 18]\n",
            " [20 19]\n",
            " [21 21]\n",
            " [24 22]\n",
            " [26 26]]\n"
          ]
        }
      ]
    },
    {
      "cell_type": "code",
      "source": [
        "import matplotlib.pyplot as plt\n",
        "plt.scatter(X[:,0],X[:,1])"
      ],
      "metadata": {
        "colab": {
          "base_uri": "https://localhost:8080/",
          "height": 447
        },
        "id": "Jl8Xb3jUNrHe",
        "outputId": "29983b8f-06f6-4240-c08f-fd8d3c35b291"
      },
      "execution_count": 39,
      "outputs": [
        {
          "output_type": "execute_result",
          "data": {
            "text/plain": [
              "<matplotlib.collections.PathCollection at 0x7f323690b280>"
            ]
          },
          "metadata": {},
          "execution_count": 39
        },
        {
          "output_type": "display_data",
          "data": {
            "text/plain": [
              "<Figure size 640x480 with 1 Axes>"
            ],
            "image/png": "[encoded data removed]"
          },
          "metadata": {}
        }
      ]
    },
    {
      "cell_type": "code",
      "source": [
        "X_meaned= X -np.mean(X, axis= 0)\n",
        "print(X_meaned)\n",
        "plt.figure()\n",
        "plt.scatter(X_meaned[:,0],X_meaned[:,1])\n",
        "plt.scatter(X[:,0],X[:,1])"
      ],
      "metadata": {
        "colab": {
          "base_uri": "https://localhost:8080/",
          "height": 638
        },
        "id": "voQx-_JTOcr5",
        "outputId": "6421f897-ef31-45ce-9f9a-848ee30c410a"
      },
      "execution_count": 43,
      "outputs": [
        {
          "output_type": "stream",
          "name": "stdout",
          "text": [
            "[[-12.5455 -10.9091]\n",
            " [-10.5455  -8.9091]\n",
            " [ -8.5455  -4.9091]\n",
            " [ -6.5455  -1.9091]\n",
            " [ -4.5455  -0.9091]\n",
            " [ -0.5455   1.0909]\n",
            " [  6.4545   2.0909]\n",
            " [  6.4545   3.0909]\n",
            " [  7.4545   5.0909]\n",
            " [ 10.4545   6.0909]\n",
            " [ 12.4545  10.0909]]\n"
          ]
        },
        {
          "output_type": "execute_result",
          "data": {
            "text/plain": [
              "<matplotlib.collections.PathCollection at 0x7f32367d2fb0>"
            ]
          },
          "metadata": {},
          "execution_count": 43
        },
        {
          "output_type": "display_data",
          "data": {
            "text/plain": [
              "<Figure size 640x480 with 1 Axes>"
            ],
            "image/png": "[encoded data removed]"
          },
          "metadata": {}
        }
      ]
    },
    {
      "cell_type": "markdown",
      "source": [
        "## Theoretical PCA"
      ],
      "metadata": {
        "id": "MggCkjR9SMXy"
      }
    },
    {
      "cell_type": "code",
      "source": [
        "C= np.cov(X_meaned,rowvar=False)\n",
        "print(C)"
      ],
      "metadata": {
        "colab": {
          "base_uri": "https://localhost:8080/"
        },
        "id": "xXJd4OVfPZA5",
        "outputId": "138c4fa7-2c2a-4291-a460-2d2647af6c36"
      },
      "execution_count": 44,
      "outputs": [
        {
          "output_type": "stream",
          "name": "stdout",
          "text": [
            "[[80.8727 54.9545]\n",
            " [54.9545 40.6909]]\n"
          ]
        }
      ]
    },
    {
      "cell_type": "code",
      "source": [
        "eval,evec =np.linalg.eig(C)\n",
        "print(eval)\n",
        "print(evec)"
      ],
      "metadata": {
        "colab": {
          "base_uri": "https://localhost:8080/"
        },
        "id": "GdkJWrG1OsaB",
        "outputId": "b657d7f8-e770-4774-84a8-1ad81850d8b4"
      },
      "execution_count": 45,
      "outputs": [
        {
          "output_type": "stream",
          "name": "stdout",
          "text": [
            "[119.2938   2.2699]\n",
            "[[ 0.8196 -0.573 ]\n",
            " [ 0.573   0.8196]]\n"
          ]
        }
      ]
    },
    {
      "cell_type": "code",
      "source": [
        "sorted_index= np.argsort(eval)[::-1]\n",
        "sorted_eval=eval[sorted_index]\n",
        "sorted_evec=evec[:,sorted_index]"
      ],
      "metadata": {
        "id": "dRrvVQtLQJWB"
      },
      "execution_count": 47,
      "outputs": []
    },
    {
      "cell_type": "code",
      "source": [
        "n=1\n",
        "evec_subset =sorted_evec[:,0:n]\n",
        "print(evec_subset)"
      ],
      "metadata": {
        "colab": {
          "base_uri": "https://localhost:8080/"
        },
        "id": "eVDZ4eo6QJ2O",
        "outputId": "27857535-3f9b-4228-a239-1b487c64c6df"
      },
      "execution_count": 48,
      "outputs": [
        {
          "output_type": "stream",
          "name": "stdout",
          "text": [
            "[[0.8196]\n",
            " [0.573 ]]\n"
          ]
        }
      ]
    },
    {
      "cell_type": "code",
      "source": [
        "X_reduced= np.dot(evec_subset.transpose(),X_meaned.transpose()).transpose()   #transform data\n",
        "print(X_reduced)"
      ],
      "metadata": {
        "colab": {
          "base_uri": "https://localhost:8080/"
        },
        "id": "Aw9PsXLaQ6k1",
        "outputId": "0b25b28e-c4b9-4e07-d149-180ac15f9371"
      },
      "execution_count": 49,
      "outputs": [
        {
          "output_type": "stream",
          "name": "stdout",
          "text": [
            "[[-16.5326]\n",
            " [-13.7475]\n",
            " [ -9.8164]\n",
            " [ -6.4583]\n",
            " [ -4.2462]\n",
            " [  0.178 ]\n",
            " [  6.488 ]\n",
            " [  7.061 ]\n",
            " [  9.0265]\n",
            " [ 12.0582]\n",
            " [ 15.9893]]\n"
          ]
        }
      ]
    },
    {
      "cell_type": "markdown",
      "source": [
        "## Using Sklearn Library"
      ],
      "metadata": {
        "id": "kHRwCUYeRl3V"
      }
    },
    {
      "cell_type": "code",
      "source": [
        "from sklearn.decomposition import PCA\n",
        "pca = PCA(n_components=1)\n",
        "pca.fit(X_meaned)\n",
        "Xr=pca.transform(X_meaned)\n",
        "print(Xr)"
      ],
      "metadata": {
        "colab": {
          "base_uri": "https://localhost:8080/"
        },
        "id": "hjcagCUvRmNe",
        "outputId": "6dfdfce6-144f-4236-beb2-5c7df70bc3e0"
      },
      "execution_count": 50,
      "outputs": [
        {
          "output_type": "stream",
          "name": "stdout",
          "text": [
            "[[ 16.5326]\n",
            " [ 13.7475]\n",
            " [  9.8164]\n",
            " [  6.4583]\n",
            " [  4.2462]\n",
            " [ -0.178 ]\n",
            " [ -6.488 ]\n",
            " [ -7.061 ]\n",
            " [ -9.0265]\n",
            " [-12.0582]\n",
            " [-15.9893]]\n"
          ]
        }
      ]
    }
  ]
}